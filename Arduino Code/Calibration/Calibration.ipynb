{
 "cells": [
  {
   "cell_type": "code",
   "execution_count": 25,
   "metadata": {},
   "outputs": [
    {
     "data": {
      "text/html": [
       "<div>\n",
       "<style scoped>\n",
       "    .dataframe tbody tr th:only-of-type {\n",
       "        vertical-align: middle;\n",
       "    }\n",
       "\n",
       "    .dataframe tbody tr th {\n",
       "        vertical-align: top;\n",
       "    }\n",
       "\n",
       "    .dataframe thead th {\n",
       "        text-align: right;\n",
       "    }\n",
       "</style>\n",
       "<table border=\"1\" class=\"dataframe\">\n",
       "  <thead>\n",
       "    <tr style=\"text-align: right;\">\n",
       "      <th></th>\n",
       "      <th>minF43</th>\n",
       "      <th>minF42</th>\n",
       "      <th>minF34</th>\n",
       "      <th>minF32</th>\n",
       "      <th>minF31</th>\n",
       "      <th>minF29</th>\n",
       "      <th>minF24</th>\n",
       "      <th>minF21</th>\n",
       "      <th>minF13</th>\n",
       "      <th>minF6</th>\n",
       "      <th>maxF43</th>\n",
       "      <th>maxF42</th>\n",
       "      <th>maxF34</th>\n",
       "      <th>maxF32</th>\n",
       "      <th>maxF31</th>\n",
       "      <th>maxF29</th>\n",
       "      <th>maxF24</th>\n",
       "      <th>maxF21</th>\n",
       "      <th>maxF13</th>\n",
       "      <th>maxF6</th>\n",
       "    </tr>\n",
       "  </thead>\n",
       "  <tbody>\n",
       "    <tr>\n",
       "      <th>0</th>\n",
       "      <td>503</td>\n",
       "      <td>526</td>\n",
       "      <td>454</td>\n",
       "      <td>387</td>\n",
       "      <td>454</td>\n",
       "      <td>428</td>\n",
       "      <td>398</td>\n",
       "      <td>439</td>\n",
       "      <td>492</td>\n",
       "      <td>456</td>\n",
       "      <td>604</td>\n",
       "      <td>612</td>\n",
       "      <td>571</td>\n",
       "      <td>572</td>\n",
       "      <td>617</td>\n",
       "      <td>622</td>\n",
       "      <td>600</td>\n",
       "      <td>630</td>\n",
       "      <td>637</td>\n",
       "      <td>609</td>\n",
       "    </tr>\n",
       "    <tr>\n",
       "      <th>1</th>\n",
       "      <td>496</td>\n",
       "      <td>527</td>\n",
       "      <td>455</td>\n",
       "      <td>384</td>\n",
       "      <td>454</td>\n",
       "      <td>425</td>\n",
       "      <td>392</td>\n",
       "      <td>434</td>\n",
       "      <td>479</td>\n",
       "      <td>449</td>\n",
       "      <td>599</td>\n",
       "      <td>608</td>\n",
       "      <td>568</td>\n",
       "      <td>574</td>\n",
       "      <td>618</td>\n",
       "      <td>625</td>\n",
       "      <td>595</td>\n",
       "      <td>633</td>\n",
       "      <td>637</td>\n",
       "      <td>607</td>\n",
       "    </tr>\n",
       "    <tr>\n",
       "      <th>2</th>\n",
       "      <td>513</td>\n",
       "      <td>523</td>\n",
       "      <td>450</td>\n",
       "      <td>414</td>\n",
       "      <td>464</td>\n",
       "      <td>448</td>\n",
       "      <td>413</td>\n",
       "      <td>446</td>\n",
       "      <td>503</td>\n",
       "      <td>457</td>\n",
       "      <td>598</td>\n",
       "      <td>610</td>\n",
       "      <td>566</td>\n",
       "      <td>569</td>\n",
       "      <td>614</td>\n",
       "      <td>619</td>\n",
       "      <td>590</td>\n",
       "      <td>628</td>\n",
       "      <td>631</td>\n",
       "      <td>606</td>\n",
       "    </tr>\n",
       "    <tr>\n",
       "      <th>3</th>\n",
       "      <td>520</td>\n",
       "      <td>537</td>\n",
       "      <td>455</td>\n",
       "      <td>417</td>\n",
       "      <td>464</td>\n",
       "      <td>440</td>\n",
       "      <td>406</td>\n",
       "      <td>439</td>\n",
       "      <td>497</td>\n",
       "      <td>459</td>\n",
       "      <td>608</td>\n",
       "      <td>615</td>\n",
       "      <td>574</td>\n",
       "      <td>576</td>\n",
       "      <td>621</td>\n",
       "      <td>623</td>\n",
       "      <td>600</td>\n",
       "      <td>630</td>\n",
       "      <td>638</td>\n",
       "      <td>609</td>\n",
       "    </tr>\n",
       "    <tr>\n",
       "      <th>4</th>\n",
       "      <td>510</td>\n",
       "      <td>525</td>\n",
       "      <td>446</td>\n",
       "      <td>409</td>\n",
       "      <td>455</td>\n",
       "      <td>436</td>\n",
       "      <td>399</td>\n",
       "      <td>441</td>\n",
       "      <td>488</td>\n",
       "      <td>449</td>\n",
       "      <td>608</td>\n",
       "      <td>614</td>\n",
       "      <td>576</td>\n",
       "      <td>578</td>\n",
       "      <td>623</td>\n",
       "      <td>626</td>\n",
       "      <td>603</td>\n",
       "      <td>633</td>\n",
       "      <td>642</td>\n",
       "      <td>612</td>\n",
       "    </tr>\n",
       "  </tbody>\n",
       "</table>\n",
       "</div>"
      ],
      "text/plain": [
       "   minF43  minF42  minF34  minF32  minF31  minF29  minF24  minF21  minF13  \\\n",
       "0     503     526     454     387     454     428     398     439     492   \n",
       "1     496     527     455     384     454     425     392     434     479   \n",
       "2     513     523     450     414     464     448     413     446     503   \n",
       "3     520     537     455     417     464     440     406     439     497   \n",
       "4     510     525     446     409     455     436     399     441     488   \n",
       "\n",
       "   minF6  maxF43  maxF42  maxF34  maxF32  maxF31  maxF29  maxF24  maxF21  \\\n",
       "0    456     604     612     571     572     617     622     600     630   \n",
       "1    449     599     608     568     574     618     625     595     633   \n",
       "2    457     598     610     566     569     614     619     590     628   \n",
       "3    459     608     615     574     576     621     623     600     630   \n",
       "4    449     608     614     576     578     623     626     603     633   \n",
       "\n",
       "   maxF13  maxF6  \n",
       "0     637    609  \n",
       "1     637    607  \n",
       "2     631    606  \n",
       "3     638    609  \n",
       "4     642    612  "
      ]
     },
     "execution_count": 25,
     "metadata": {},
     "output_type": "execute_result"
    }
   ],
   "source": [
    "import pandas as pd\n",
    "import os\n",
    "import matplotlib.pyplot as plt\n",
    "import numpy as np\n",
    "\n",
    "file= 'maxminval.csv'\n",
    "df = pd.read_csv(file)\n",
    "\n",
    "df.head()\n"
   ]
  },
  {
   "cell_type": "code",
   "execution_count": 35,
   "metadata": {},
   "outputs": [
    {
     "data": {
      "text/plain": [
       "Text(0.5, 0, 'Sensor Name')"
      ]
     },
     "execution_count": 35,
     "metadata": {},
     "output_type": "execute_result"
    },
    {
     "data": {
      "image/png": "[encoded data removed]",
      "text/plain": [
       "<Figure size 432x288 with 1 Axes>"
      ]
     },
     "metadata": {
      "needs_background": "light"
     },
     "output_type": "display_data"
    }
   ],
   "source": [
    "min = ['minF43','minF42','minF34','minF32','minF31','minF29','minF24','minF21','minF13','minF6']\n",
    "mindf = pd.DataFrame()\n",
    "name = ['F1','F2','F3','F4','F5','F6','F7','F8','F9','F10']\n",
    "mindf = df[min]\n",
    "mindf.columns = name\n",
    "fig = mindf.boxplot(figsize=(6,4))\n",
    "fig.set_ylabel(\"Raw Sensor Data\")\n",
    "fig.set_title(\"Minimum Value Boxplot\")\n",
    "fig.set_xlabel(\"Sensor Name\")"
   ]
  },
  {
   "cell_type": "code",
   "execution_count": 36,
   "metadata": {},
   "outputs": [
    {
     "data": {
      "text/plain": [
       "Text(0.5, 0, 'Sensor Name')"
      ]
     },
     "execution_count": 36,
     "metadata": {},
     "output_type": "execute_result"
    },
    {
     "data": {
      "image/png": "[encoded data removed]",
      "text/plain": [
       "<Figure size 432x288 with 1 Axes>"
      ]
     },
     "metadata": {
      "needs_background": "light"
     },
     "output_type": "display_data"
    }
   ],
   "source": [
    "max = ['maxF43','maxF42','maxF34','maxF32','maxF31','maxF29','maxF24','maxF21','maxF13','maxF6']\n",
    "maxdf = pd.DataFrame()\n",
    "\n",
    "maxdf = df[max]\n",
    "maxdf.columns = name\n",
    "\n",
    "fig = maxdf.boxplot(figsize=(6,4))\n",
    "\n",
    "fig.set_ylabel(\"Raw Sensor Data\")\n",
    "fig.set_title(\"Maximum Value Boxplot\")\n",
    "fig.set_xlabel(\"Sensor Name\")"
   ]
  },
  {
   "cell_type": "code",
   "execution_count": null,
   "metadata": {},
   "outputs": [],
   "source": []
  }
 ],
 "metadata": {
  "kernelspec": {
   "display_name": "Python 3",
   "language": "python",
   "name": "python3"
  },
  "language_info": {
   "codemirror_mode": {
    "name": "ipython",
    "version": 3
   },
   "file_extension": ".py",
   "mimetype": "text/x-python",
   "name": "python",
   "nbconvert_exporter": "python",
   "pygments_lexer": "ipython3",
   "version": "3.7.7"
  }
 },
 "nbformat": 4,
 "nbformat_minor": 4
}
